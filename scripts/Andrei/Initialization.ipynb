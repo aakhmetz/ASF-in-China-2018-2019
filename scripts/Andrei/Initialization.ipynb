{
 "cells": [
  {
   "cell_type": "code",
   "execution_count": 1,
   "metadata": {},
   "outputs": [
    {
     "name": "stdout",
     "output_type": "stream",
     "text": [
      "2019年 11月 24日 日曜日 13:43:34 JST\n"
     ]
    }
   ],
   "source": [
    "!date"
   ]
  },
  {
   "cell_type": "code",
   "execution_count": 11,
   "metadata": {},
   "outputs": [
    {
     "name": "stdout",
     "output_type": "stream",
     "text": [
      "3.6.9 |Anaconda, Inc.| (default, Jul 30 2019, 19:07:31) \n",
      "[GCC 7.3.0]\n"
     ]
    }
   ],
   "source": [
    "import pandas as pd\n",
    "import numpy as np\n",
    "from numpy import exp, sqrt\n",
    "# from scipy.stats import lognorm, gamma\n",
    "import scipy.stats as ss\n",
    "\n",
    "%matplotlib inline\n",
    "# Make inline plots raster graphics\n",
    "from IPython.display import set_matplotlib_formats\n",
    "import matplotlib\n",
    "import matplotlib.pyplot as plt\n",
    "import matplotlib.dates as mdates\n",
    "from math import log, isnan\n",
    "from scipy.special import gammainc, erf\n",
    "from scipy.special import gammaln\n",
    "\n",
    "import scipy.special as ssp\n",
    "\n",
    "from datetime import timedelta\n",
    "\n",
    "# Parameters for seaborn plots\n",
    "import seaborn as sns\n",
    "clrs = sns.color_palette(\"Spectral\", 6)\n",
    "def set_plot_style(usetex=False):\n",
    "    sns.set_style('white', {'axes.linewidth': 0.5})\n",
    "    sns.set(style='white', font_scale=1.1,#context='paper',\n",
    "            rc={'xtick.major.size': 6, 'ytick.major.size': 6, 'legend.fontsize': 14,\n",
    "                'text.usetex': usetex, 'font.family': 'serif', 'font.serif': ['Verdana'],\n",
    "                'text.latex.preamble': r\"\\usepackage{type1cm}\"}) \n",
    "    plt.rcParams['xtick.major.size'] = 6\n",
    "    plt.rcParams['xtick.major.width'] = 1\n",
    "    plt.rcParams['ytick.major.size'] = 6\n",
    "    plt.rcParams['ytick.major.width'] = 1\n",
    "    plt.rcParams['xtick.bottom'] = True\n",
    "    plt.rcParams['ytick.left'] = True\n",
    "\n",
    "palette_size = 6;\n",
    "clrs = sns.color_palette(\"colorblind\",palette_size) #cubehelix\n",
    "import itertools # to do cycle, product\n",
    "iclrs = itertools.cycle(clrs) # iterated colors\n",
    "lw = .4 #linewidth for bins on plot.bar()\n",
    "\n",
    "import pymc3 as pm\n",
    "import pymc3.distributions.transforms as tr\n",
    "import theano\n",
    "import theano.tensor as tt\n",
    "from theano.compile.ops import as_op\n",
    "from theano import shared\n",
    "theano.config.compute_test_value = 'ignore'\n",
    "\n",
    "from sklearn import linear_model\n",
    "lm = linear_model.LinearRegression()\n",
    "\n",
    "import time\n",
    "import pickle\n",
    "\n",
    "import geopy.distance\n",
    "\n",
    "from math import lgamma\n",
    "\n",
    "import locale\n",
    "import platform \n",
    "current_platform = platform.system()\n",
    "if current_platform=='Darwin':\n",
    "    %config InlineBackend.figure_format = 'retina'\n",
    "else:\n",
    "    locale.setlocale(locale.LC_ALL, 'en_US.utf8')\n",
    "    %config InlineBackend.figure_format = 'png'\n",
    "\n",
    "import sys\n",
    "print(sys.version)\n",
    "\n",
    "from functools import reduce\n",
    "from operator import concat\n",
    "\n",
    "# from pandas.plotting import register_matplotlib_converters\n",
    "# register_matplotlib_converters()\n",
    "\n",
    "from IPython.core.display import Image, display\n",
    "!mkdir -p ../../figures\n",
    "!mkdir -p ../../figures/draft\n",
    "!mkdir -p ../../figures/pngs\n",
    "!mkdir -p ../../data/by_county\n",
    "!mkdir -p csvs\n",
    "\n",
    "import rpy2\n",
    "import rpy2.rinterface\n",
    "# %load_ext rpy2.ipython\n",
    "# rpy2.robjects.r['options'](warn=-1)\n",
    "\n",
    "import warnings\n",
    "from rpy2.rinterface import RRuntimeWarning\n",
    "warnings.filterwarnings(\"ignore\", category=RRuntimeWarning)\n",
    "warnings.simplefilter(action='ignore', category=FutureWarning)\n",
    "\n",
    "import matplotlib.gridspec as gridspec\n",
    "\n",
    "import statsmodels.api as sm\n",
    "from statsmodels.formula.api import ols\n",
    "\n",
    "import networkx as nx\n",
    "import scipy.special as ssp\n",
    "\n",
    "import arviz as az"
   ]
  },
  {
   "cell_type": "code",
   "execution_count": 6,
   "metadata": {},
   "outputs": [
    {
     "name": "stdout",
     "output_type": "stream",
     "text": [
      "Running with PyMC3 version v.3.7\n",
      "Running with arviz version v.0.5.1\n",
      "Running with pandas version v.0.25.3\n",
      "Running with Theano version v.1.0.4\n",
      "Running with rpy2 version v.3.2.2\n"
     ]
    }
   ],
   "source": [
    "print('Running with PyMC3 version v.{}'.format(pm.__version__))\n",
    "print('Running with arviz version v.{}'.format(az.__version__))\n",
    "print('Running with pandas version v.{}'.format(pd.__version__))\n",
    "print('Running with Theano version v.{}'.format(theano.__version__))\n",
    "print('Running with rpy2 version v.{}'.format(rpy2.__version__))"
   ]
  }
 ],
 "metadata": {
  "kernelspec": {
   "display_name": "Python 3 (ipykernel)",
   "language": "python",
   "name": "python3"
  },
  "language_info": {
   "codemirror_mode": {
    "name": "ipython",
    "version": 3
   },
   "file_extension": ".py",
   "mimetype": "text/x-python",
   "name": "python",
   "nbconvert_exporter": "python",
   "pygments_lexer": "ipython3",
   "version": "3.12.5"
  }
 },
 "nbformat": 4,
 "nbformat_minor": 4
}
