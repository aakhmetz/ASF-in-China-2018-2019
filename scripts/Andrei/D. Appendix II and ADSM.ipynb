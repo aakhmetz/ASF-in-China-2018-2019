{
 "cells": [
  {
   "cell_type": "code",
   "execution_count": 204,
   "metadata": {},
   "outputs": [
    {
     "name": "stdout",
     "output_type": "stream",
     "text": [
      "2019年 10月  2日 水曜日 15:28:21 JST\n",
      "3.6.9 |Anaconda, Inc.| (default, Jul 30 2019, 19:07:31) \n",
      "[GCC 7.3.0]\n",
      "The rpy2.ipython extension is already loaded. To reload it, use:\n",
      "  %reload_ext rpy2.ipython\n",
      "Running with PyMC3 version v.3.7\n",
      "Running with arviz version v.0.4.1\n",
      "Running with pandas version v.0.25.1\n",
      "Running with Theano version v.1.0.4\n",
      "Number of used CPU cores: 48\n"
     ]
    }
   ],
   "source": [
    "%run ./Initialization.ipynb\n",
    "\n",
    "import random as rndm\n",
    "import csv\n",
    "from joblib import Parallel, delayed\n",
    "import multiprocessing\n",
    "num_cores = multiprocessing.cpu_count()\n",
    "\n",
    "nsamples = 100 #1000\n",
    "\n",
    "set_plot_style(usetex=False)\n",
    "print(\"Number of used CPU cores: %d\"%num_cores)"
   ]
  },
  {
   "cell_type": "code",
   "execution_count": 205,
   "metadata": {},
   "outputs": [
    {
     "data": {
      "text/html": [
       "<div>\n",
       "<style scoped>\n",
       "    .dataframe tbody tr th:only-of-type {\n",
       "        vertical-align: middle;\n",
       "    }\n",
       "\n",
       "    .dataframe tbody tr th {\n",
       "        vertical-align: top;\n",
       "    }\n",
       "\n",
       "    .dataframe thead th {\n",
       "        text-align: right;\n",
       "    }\n",
       "</style>\n",
       "<table border=\"1\" class=\"dataframe\">\n",
       "  <thead>\n",
       "    <tr style=\"text-align: right;\">\n",
       "      <th></th>\n",
       "      <th>run</th>\n",
       "      <th>day</th>\n",
       "      <th>ID</th>\n",
       "      <th>status</th>\n",
       "      <th>Lat</th>\n",
       "      <th>Lon</th>\n",
       "    </tr>\n",
       "  </thead>\n",
       "  <tbody>\n",
       "    <tr>\n",
       "      <td>0</td>\n",
       "      <td>2</td>\n",
       "      <td>1</td>\n",
       "      <td>31</td>\n",
       "      <td>C</td>\n",
       "      <td>33.515</td>\n",
       "      <td>-37.5675</td>\n",
       "    </tr>\n",
       "    <tr>\n",
       "      <td>1</td>\n",
       "      <td>2</td>\n",
       "      <td>2</td>\n",
       "      <td>31</td>\n",
       "      <td>C</td>\n",
       "      <td>33.515</td>\n",
       "      <td>-37.5675</td>\n",
       "    </tr>\n",
       "    <tr>\n",
       "      <td>2</td>\n",
       "      <td>2</td>\n",
       "      <td>2</td>\n",
       "      <td>2728</td>\n",
       "      <td>L</td>\n",
       "      <td>33.552</td>\n",
       "      <td>-37.7507</td>\n",
       "    </tr>\n",
       "    <tr>\n",
       "      <td>3</td>\n",
       "      <td>2</td>\n",
       "      <td>3</td>\n",
       "      <td>31</td>\n",
       "      <td>C</td>\n",
       "      <td>33.515</td>\n",
       "      <td>-37.5675</td>\n",
       "    </tr>\n",
       "    <tr>\n",
       "      <td>4</td>\n",
       "      <td>2</td>\n",
       "      <td>3</td>\n",
       "      <td>1922</td>\n",
       "      <td>L</td>\n",
       "      <td>33.407</td>\n",
       "      <td>-37.2380</td>\n",
       "    </tr>\n",
       "  </tbody>\n",
       "</table>\n",
       "</div>"
      ],
      "text/plain": [
       "   run  day    ID status     Lat      Lon\n",
       "0    2    1    31      C  33.515 -37.5675\n",
       "1    2    2    31      C  33.515 -37.5675\n",
       "2    2    2  2728      L  33.552 -37.7507\n",
       "3    2    3    31      C  33.515 -37.5675\n",
       "4    2    3  1922      L  33.407 -37.2380"
      ]
     },
     "execution_count": 205,
     "metadata": {},
     "output_type": "execute_result"
    }
   ],
   "source": [
    "Df_raw = pd.read_csv(\"ADSM-states.csv\",sep=\",\")\n",
    "Df_raw[:5]"
   ]
  },
  {
   "cell_type": "code",
   "execution_count": 206,
   "metadata": {},
   "outputs": [
    {
     "data": {
      "text/html": [
       "<div>\n",
       "<style scoped>\n",
       "    .dataframe tbody tr th:only-of-type {\n",
       "        vertical-align: middle;\n",
       "    }\n",
       "\n",
       "    .dataframe tbody tr th {\n",
       "        vertical-align: top;\n",
       "    }\n",
       "\n",
       "    .dataframe thead th {\n",
       "        text-align: right;\n",
       "    }\n",
       "</style>\n",
       "<table border=\"1\" class=\"dataframe\">\n",
       "  <thead>\n",
       "    <tr style=\"text-align: right;\">\n",
       "      <th></th>\n",
       "      <th>ID</th>\n",
       "      <th>day</th>\n",
       "      <th>Lat</th>\n",
       "      <th>Lon</th>\n",
       "    </tr>\n",
       "  </thead>\n",
       "  <tbody>\n",
       "    <tr>\n",
       "      <td>3</td>\n",
       "      <td>31</td>\n",
       "      <td>1</td>\n",
       "      <td>33.515</td>\n",
       "      <td>-37.5675</td>\n",
       "    </tr>\n",
       "    <tr>\n",
       "      <td>298</td>\n",
       "      <td>2728</td>\n",
       "      <td>7</td>\n",
       "      <td>33.552</td>\n",
       "      <td>-37.7507</td>\n",
       "    </tr>\n",
       "    <tr>\n",
       "      <td>215</td>\n",
       "      <td>1922</td>\n",
       "      <td>9</td>\n",
       "      <td>33.407</td>\n",
       "      <td>-37.2380</td>\n",
       "    </tr>\n",
       "    <tr>\n",
       "      <td>83</td>\n",
       "      <td>715</td>\n",
       "      <td>10</td>\n",
       "      <td>33.302</td>\n",
       "      <td>-37.0091</td>\n",
       "    </tr>\n",
       "    <tr>\n",
       "      <td>364</td>\n",
       "      <td>3267</td>\n",
       "      <td>11</td>\n",
       "      <td>33.990</td>\n",
       "      <td>-37.6930</td>\n",
       "    </tr>\n",
       "  </tbody>\n",
       "</table>\n",
       "</div>"
      ],
      "text/plain": [
       "       ID  day     Lat      Lon\n",
       "3      31    1  33.515 -37.5675\n",
       "298  2728    7  33.552 -37.7507\n",
       "215  1922    9  33.407 -37.2380\n",
       "83    715   10  33.302 -37.0091\n",
       "364  3267   11  33.990 -37.6930"
      ]
     },
     "execution_count": 206,
     "metadata": {},
     "output_type": "execute_result"
    }
   ],
   "source": [
    "# selecting only the clinical detection\n",
    "Df = Df_raw.loc[lambda d: d.status=='C'].groupby('ID').first().drop(['run','status'],1).reset_index().sort_values('day')\n",
    "Df[:5]"
   ]
  },
  {
   "cell_type": "code",
   "execution_count": 207,
   "metadata": {},
   "outputs": [
    {
     "data": {
      "text/html": [
       "<div>\n",
       "<style scoped>\n",
       "    .dataframe tbody tr th:only-of-type {\n",
       "        vertical-align: middle;\n",
       "    }\n",
       "\n",
       "    .dataframe tbody tr th {\n",
       "        vertical-align: top;\n",
       "    }\n",
       "\n",
       "    .dataframe thead th {\n",
       "        text-align: right;\n",
       "    }\n",
       "</style>\n",
       "<table border=\"1\" class=\"dataframe\">\n",
       "  <thead>\n",
       "    <tr style=\"text-align: right;\">\n",
       "      <th></th>\n",
       "      <th>day</th>\n",
       "      <th>n</th>\n",
       "    </tr>\n",
       "  </thead>\n",
       "  <tbody>\n",
       "    <tr>\n",
       "      <td>0</td>\n",
       "      <td>0</td>\n",
       "      <td>0</td>\n",
       "    </tr>\n",
       "    <tr>\n",
       "      <td>1</td>\n",
       "      <td>1</td>\n",
       "      <td>1</td>\n",
       "    </tr>\n",
       "    <tr>\n",
       "      <td>2</td>\n",
       "      <td>2</td>\n",
       "      <td>0</td>\n",
       "    </tr>\n",
       "    <tr>\n",
       "      <td>3</td>\n",
       "      <td>3</td>\n",
       "      <td>0</td>\n",
       "    </tr>\n",
       "    <tr>\n",
       "      <td>4</td>\n",
       "      <td>4</td>\n",
       "      <td>0</td>\n",
       "    </tr>\n",
       "  </tbody>\n",
       "</table>\n",
       "</div>"
      ],
      "text/plain": [
       "   day  n\n",
       "0    0  0\n",
       "1    1  1\n",
       "2    2  0\n",
       "3    3  0\n",
       "4    4  0"
      ]
     },
     "metadata": {},
     "output_type": "display_data"
    },
    {
     "data": {
      "text/html": [
       "<div>\n",
       "<style scoped>\n",
       "    .dataframe tbody tr th:only-of-type {\n",
       "        vertical-align: middle;\n",
       "    }\n",
       "\n",
       "    .dataframe tbody tr th {\n",
       "        vertical-align: top;\n",
       "    }\n",
       "\n",
       "    .dataframe thead th {\n",
       "        text-align: right;\n",
       "    }\n",
       "</style>\n",
       "<table border=\"1\" class=\"dataframe\">\n",
       "  <thead>\n",
       "    <tr style=\"text-align: right;\">\n",
       "      <th></th>\n",
       "      <th>day</th>\n",
       "      <th>n</th>\n",
       "    </tr>\n",
       "  </thead>\n",
       "  <tbody>\n",
       "    <tr>\n",
       "      <td>129</td>\n",
       "      <td>129</td>\n",
       "      <td>1</td>\n",
       "    </tr>\n",
       "    <tr>\n",
       "      <td>130</td>\n",
       "      <td>130</td>\n",
       "      <td>0</td>\n",
       "    </tr>\n",
       "    <tr>\n",
       "      <td>131</td>\n",
       "      <td>131</td>\n",
       "      <td>0</td>\n",
       "    </tr>\n",
       "    <tr>\n",
       "      <td>132</td>\n",
       "      <td>132</td>\n",
       "      <td>0</td>\n",
       "    </tr>\n",
       "    <tr>\n",
       "      <td>133</td>\n",
       "      <td>133</td>\n",
       "      <td>0</td>\n",
       "    </tr>\n",
       "  </tbody>\n",
       "</table>\n",
       "</div>"
      ],
      "text/plain": [
       "     day  n\n",
       "129  129  1\n",
       "130  130  0\n",
       "131  131  0\n",
       "132  132  0\n",
       "133  133  0"
      ]
     },
     "execution_count": 207,
     "metadata": {},
     "output_type": "execute_result"
    }
   ],
   "source": [
    "xmax = np.max(Df['day'])\n",
    "\n",
    "df_epi = Df.groupby('day').size()\n",
    "df_epi = pd.DataFrame(df_epi,columns=['n']).reset_index()\n",
    "df_epi = pd.DataFrame({'day': range(xmax+5)}).merge(df_epi,how='left').fillna(0)\n",
    "df_epi['n'] = df_epi['n'].astype(int)\n",
    "display(df_epi[:5])\n",
    "df_epi[-5:]"
   ]
  },
  {
   "cell_type": "code",
   "execution_count": 208,
   "metadata": {},
   "outputs": [
    {
     "data": {
      "text/html": [
       "<div>\n",
       "<style scoped>\n",
       "    .dataframe tbody tr th:only-of-type {\n",
       "        vertical-align: middle;\n",
       "    }\n",
       "\n",
       "    .dataframe tbody tr th {\n",
       "        vertical-align: top;\n",
       "    }\n",
       "\n",
       "    .dataframe thead th {\n",
       "        text-align: right;\n",
       "    }\n",
       "</style>\n",
       "<table border=\"1\" class=\"dataframe\">\n",
       "  <thead>\n",
       "    <tr style=\"text-align: right;\">\n",
       "      <th></th>\n",
       "      <th>day</th>\n",
       "      <th>n</th>\n",
       "      <th>n_after_removal</th>\n",
       "    </tr>\n",
       "  </thead>\n",
       "  <tbody>\n",
       "    <tr>\n",
       "      <td>129</td>\n",
       "      <td>129</td>\n",
       "      <td>1</td>\n",
       "      <td>1</td>\n",
       "    </tr>\n",
       "    <tr>\n",
       "      <td>130</td>\n",
       "      <td>130</td>\n",
       "      <td>0</td>\n",
       "      <td>0</td>\n",
       "    </tr>\n",
       "    <tr>\n",
       "      <td>131</td>\n",
       "      <td>131</td>\n",
       "      <td>0</td>\n",
       "      <td>0</td>\n",
       "    </tr>\n",
       "    <tr>\n",
       "      <td>132</td>\n",
       "      <td>132</td>\n",
       "      <td>0</td>\n",
       "      <td>0</td>\n",
       "    </tr>\n",
       "    <tr>\n",
       "      <td>133</td>\n",
       "      <td>133</td>\n",
       "      <td>0</td>\n",
       "      <td>0</td>\n",
       "    </tr>\n",
       "  </tbody>\n",
       "</table>\n",
       "</div>"
      ],
      "text/plain": [
       "     day  n  n_after_removal\n",
       "129  129  1                1\n",
       "130  130  0                0\n",
       "131  131  0                0\n",
       "132  132  0                0\n",
       "133  133  0                0"
      ]
     },
     "execution_count": 208,
     "metadata": {},
     "output_type": "execute_result"
    }
   ],
   "source": [
    "p_reported = .50\n",
    "\n",
    "df_epi['n_after_removal'] = pm.Binomial.dist(n = df_epi['n'], p = p_reported, shape=df_epi.shape[0]).random(size=1)\n",
    "df_epi[-5:]"
   ]
  },
  {
   "cell_type": "code",
   "execution_count": 209,
   "metadata": {},
   "outputs": [
    {
     "data": {
      "image/png": "[encoded data removed]",
      "text/plain": [
       "<Figure size 432x324 with 1 Axes>"
      ]
     },
     "metadata": {},
     "output_type": "display_data"
    }
   ],
   "source": [
    "fig, ax = plt.subplots(1)\n",
    "fig_sz = [6,4.5]\n",
    "fig.set_size_inches(fig_sz);\n",
    "\n",
    "ymax = 15\n",
    "\n",
    "ax.step(df_epi['day'].append(df_epi['day'][-1:]+1),\n",
    "        df_epi['n'].append(df_epi['n'][-1:]),\n",
    "        where='post',color='k',lw=1)\n",
    "ax.fill_between(df_epi['day'].append(df_epi['day'][-1:]+1),\n",
    "                df_epi['n'].append(df_epi['n'][-1:]),\n",
    "                step='post',alpha=.6,color='C0',label='Complete records')\n",
    "\n",
    "ax.set_xlim(np.min(df_epi['day']),np.max(df_epi['day'])+1)\n",
    "ax.set_ylim(0,ymax\n",
    "        )\n",
    "\n",
    "ax.set_xlabel('Days since the index outbreak')\n",
    "ax.set_ylabel('Number of infected farms')\n",
    "\n",
    "ax.spines['right'].set_visible(False); ax.spines['top'].set_visible(False)\n",
    "ax.set_title('Epidemiological curve',size=13, y=1.03,fontweight=\"bold\");\n",
    "ax.legend(fontsize=12,frameon=False,loc=2)\n",
    "plt.tight_layout(rect=[0, 0, 1, 0.97])\n",
    "plt.savefig(\"../../figures/draft/AppendixFig-ADSM-Epicurve-1.pdf\",format='pdf',bbox_inches='tight')"
   ]
  },
  {
   "cell_type": "code",
   "execution_count": 210,
   "metadata": {},
   "outputs": [
    {
     "data": {
      "image/png": "[encoded data removed]",
      "text/plain": [
       "<Figure size 432x324 with 1 Axes>"
      ]
     },
     "metadata": {},
     "output_type": "display_data"
    }
   ],
   "source": [
    "fig, ax = plt.subplots(1)\n",
    "fig.set_size_inches(fig_sz); \n",
    "\n",
    "ax.fill_between(df_epi['day'].append(df_epi['day'][-1:]+1),\n",
    "                df_epi['n_after_removal'].append(df_epi['n_after_removal'][-1:]),\n",
    "                step='post',alpha=.6,color='C0',lw=1,label='Definitive')\n",
    "\n",
    "ax.fill_between(df_epi['day'].append(df_epi['day'][-1:]+1),\n",
    "                df_epi['n_after_removal'].append(df_epi['n_after_removal'][-1:]),\n",
    "                df_epi['n'].append(df_epi['n'][-1:]),\n",
    "                step='post',alpha=.4,facecolor='C8',edgecolor='grey',lw=1.2,label='Underascertainment')\n",
    "\n",
    "ax.step(df_epi['day'].append(df_epi['day'][-1:]+1),\n",
    "        df_epi['n_after_removal'].append(df_epi['n_after_removal'][-1:]),\n",
    "        where='post',color='k',lw=.8)\n",
    "\n",
    "ax.set_xlim(np.min(df_epi['day']),np.max(df_epi['day'])+1)\n",
    "ax.set_ylim(0,ymax)\n",
    "\n",
    "ax.set_xlabel('Days since the index outbreak')\n",
    "ax.set_ylabel('Number of infected farms')\n",
    "\n",
    "ax.spines['right'].set_visible(False); ax.spines['top'].set_visible(False)\n",
    "ax.set_title('Underascertainment: %.0f%%'%(p_reported*100),size=13, y=1.03,fontweight=\"bold\");\n",
    "ax.legend(fontsize=12,frameon=False,loc=2)\n",
    "plt.tight_layout(rect=[0, 0, 1, 0.97])\n",
    "plt.savefig(\"../../figures/draft/AppendixFig-ADSM-Epicurve-2.pdf\",format='pdf',bbox_inches='tight')"
   ]
  },
  {
   "cell_type": "code",
   "execution_count": 45,
   "metadata": {},
   "outputs": [
    {
     "name": "stderr",
     "output_type": "stream",
     "text": [
      "Auto-assigning NUTS sampler...\n",
      "Initializing NUTS using advi...\n",
      "Average Loss = 13.461:   3%|▎         | 6666/200000 [00:02<00:59, 3231.60it/s]\n",
      "Convergence achieved at 6800\n",
      "Interrupted at 6,799 [3%]: Average Loss = 21.949\n",
      "Multiprocess sampling (4 chains in 4 jobs)\n",
      "NUTS: [gtSD, α, Y, X]\n",
      "Sampling 4 chains: 100%|██████████| 32000/32000 [00:12<00:00, 2516.50draws/s]\n"
     ]
    },
    {
     "data": {
      "text/html": [
       "<div>\n",
       "<style scoped>\n",
       "    .dataframe tbody tr th:only-of-type {\n",
       "        vertical-align: middle;\n",
       "    }\n",
       "\n",
       "    .dataframe tbody tr th {\n",
       "        vertical-align: top;\n",
       "    }\n",
       "\n",
       "    .dataframe thead th {\n",
       "        text-align: right;\n",
       "    }\n",
       "</style>\n",
       "<table border=\"1\" class=\"dataframe\">\n",
       "  <thead>\n",
       "    <tr style=\"text-align: right;\">\n",
       "      <th></th>\n",
       "      <th>mean</th>\n",
       "      <th>sd</th>\n",
       "      <th>mc_error</th>\n",
       "      <th>hpd_2.5</th>\n",
       "      <th>hpd_97.5</th>\n",
       "      <th>n_eff</th>\n",
       "      <th>Rhat</th>\n",
       "    </tr>\n",
       "  </thead>\n",
       "  <tbody>\n",
       "    <tr>\n",
       "      <td>gtmean</td>\n",
       "      <td>9.455843</td>\n",
       "      <td>1.968377</td>\n",
       "      <td>0.037678</td>\n",
       "      <td>6.043463</td>\n",
       "      <td>13.417218</td>\n",
       "      <td>2675.177019</td>\n",
       "      <td>1.000775</td>\n",
       "    </tr>\n",
       "    <tr>\n",
       "      <td>gtSD</td>\n",
       "      <td>2.304795</td>\n",
       "      <td>0.588669</td>\n",
       "      <td>0.006017</td>\n",
       "      <td>1.230110</td>\n",
       "      <td>3.499542</td>\n",
       "      <td>10876.442296</td>\n",
       "      <td>0.999995</td>\n",
       "    </tr>\n",
       "  </tbody>\n",
       "</table>\n",
       "</div>"
      ],
      "text/plain": [
       "            mean        sd  mc_error   hpd_2.5   hpd_97.5         n_eff  \\\n",
       "gtmean  9.455843  1.968377  0.037678  6.043463  13.417218   2675.177019   \n",
       "gtSD    2.304795  0.588669  0.006017  1.230110   3.499542  10876.442296   \n",
       "\n",
       "            Rhat  \n",
       "gtmean  1.000775  \n",
       "gtSD    0.999995  "
      ]
     },
     "execution_count": 45,
     "metadata": {},
     "output_type": "execute_result"
    },
    {
     "data": {
      "image/png": "[encoded data removed]",
      "text/plain": [
       "<Figure size 864x720 with 10 Axes>"
      ]
     },
     "metadata": {},
     "output_type": "display_data"
    }
   ],
   "source": [
    "### Generation time distribution = Incubation time convoluted with infectiousness period\n",
    "with pm.Model() as model:\n",
    "    # incubation times\n",
    "    incmean = tt.as_tensor_variable(np.float64(6.3))\n",
    "    incSD = tt.as_tensor_variable(np.float64(1.3))\n",
    "    X = pm.Gamma('X',mu=incmean,sd=incSD)\n",
    "    # infectiousness period\n",
    "    infmean = tt.as_tensor_variable(np.float64(9.15))\n",
    "    infSD = tt.as_tensor_variable(np.float64(1.92))\n",
    "    Y = pm.Gamma('Y',mu=infmean,sd=infSD)\n",
    "    \n",
    "    # generation time inference as convolution X*Y\n",
    "    α = pm.HalfNormal('α',20)\n",
    "    gtSD = pm.HalfNormal('gtSD')\n",
    "    β = pm.math.sqrt(α/gtSD)\n",
    "    Z = pm.Gamma('Z',α,β,observed=X+Y)\n",
    "    pm.Deterministic('gtmean',α/β)\n",
    "    \n",
    "    trace = pm.sample(5000,tune=3000,init='advi')\n",
    "    \n",
    "az.plot_trace(trace)\n",
    "pm.summary(trace,var_names=['gtmean','gtSD'])"
   ]
  },
  {
   "cell_type": "code",
   "execution_count": 52,
   "metadata": {},
   "outputs": [
    {
     "data": {
      "text/plain": [
       "(9.455843193165641, 2.304795326689438)"
      ]
     },
     "execution_count": 52,
     "metadata": {},
     "output_type": "execute_result"
    }
   ],
   "source": [
    "resFit = pm.summary(trace,var_names=['gtmean','gtSD'])\n",
    "genmean = resFit.loc['gtmean','mean']\n",
    "gensd = resFit.loc['gtSD','mean']\n",
    "(genmean,gensd)"
   ]
  },
  {
   "cell_type": "markdown",
   "metadata": {},
   "source": [
    "# Salje et al method"
   ]
  },
  {
   "cell_type": "code",
   "execution_count": 15,
   "metadata": {},
   "outputs": [
    {
     "data": {
      "text/plain": [
       "array([[  0.        , 307.71552104, 126.58317209, ..., 221.46522787,\n",
       "        186.45524646, 187.08235969],\n",
       "       [307.71552104,   0.        , 182.82805912, ..., 272.9746808 ,\n",
       "        269.60444749, 250.74599031],\n",
       "       [126.58317209, 182.82805912,   0.        , ..., 207.11454243,\n",
       "        181.0554526 , 169.13442016],\n",
       "       ...,\n",
       "       [221.46522787, 272.9746808 , 207.11454243, ...,   0.        ,\n",
       "         35.14542722,  38.62081526],\n",
       "       [186.45524646, 269.60444749, 181.0554526 , ...,  35.14542722,\n",
       "          0.        ,  18.98026048],\n",
       "       [187.08235969, 250.74599031, 169.13442016, ...,  38.62081526,\n",
       "         18.98026048,   0.        ]])"
      ]
     },
     "execution_count": 15,
     "metadata": {},
     "output_type": "execute_result"
    }
   ],
   "source": [
    "Distance = np.zeros([Df.shape[0]]*2)\n",
    "for index_infector, index_infectee in itertools.product(np.arange(Df.shape[0]),np.arange(Df.shape[0])):\n",
    "    coords_infectee = tuple((Df.loc[index_infectee,['Lat','Lon']]).values)\n",
    "    coords_infector = tuple((Df.loc[index_infector,['Lat','Lon']]).values)\n",
    "    Distance[index_infectee,index_infector] = geopy.distance.distance(coords_infectee, coords_infector).km\n",
    "\n",
    "Distance = shared(Distance)\n",
    "Distance.eval()"
   ]
  },
  {
   "cell_type": "code",
   "execution_count": 55,
   "metadata": {},
   "outputs": [
    {
     "name": "stdout",
     "output_type": "stream",
     "text": [
      "(9.455843193165641, 2.304795326689438)\n"
     ]
    },
    {
     "data": {
      "text/plain": [
       "[9.455843193165641, 2.304795326689438, 57.65296272181223]"
      ]
     },
     "metadata": {},
     "output_type": "display_data"
    },
    {
     "name": "stdout",
     "output_type": "stream",
     "text": [
      "CPU times: user 2min 20s, sys: 2.85 s, total: 2min 23s\n",
      "Wall time: 5min 59s\n"
     ]
    }
   ],
   "source": [
    "%%time\n",
    "recalc = True\n",
    "\n",
    "nsamples_ = 25\n",
    "gammaF = lambda t,gtmean,gtSD: gammainc((gtmean/gtSD)**2, gtmean*t/(gtSD**2))\n",
    "gammaProb = lambda day,gtmean,gtSD: gammaF(day,gtmean,gtSD) - gammaF(day-1,gtmean,gtSD) if day>0 else 0.0\n",
    "\n",
    "if(recalc):\n",
    "    print((genmean,gensd))\n",
    "    genProb = lambda day: gammaProb(day,genmean,genSD)\n",
    "\n",
    "    WallingaMatrix = np.zeros([Df.shape[0]]*2)\n",
    "    for index_infector, index_infectee in itertools.product(np.arange(Df.shape[0]),np.arange(Df.shape[0])):\n",
    "        time_infectee = Df.loc[index_infectee,'day']\n",
    "        time_infector = Df.loc[index_infector,'day']\n",
    "        WallingaMatrix[index_infectee,index_infector] = genProb(time_infectee-time_infector)\n",
    "    WallingaMatrix = shared(WallingaMatrix)\n",
    "\n",
    "    with pm.Model() as model:\n",
    "        failed_to_connect = tt.switch(tt.gt(WallingaMatrix.max(axis=1),0),0,1)\n",
    "        p = pm.Deterministic('p',tt.concatenate([WallingaMatrix,tt.shape_padright(failed_to_connect)],axis=1))\n",
    "        connectivity_ = pm.Categorical('connectivity_',p=p,shape=Df.shape[0])\n",
    "        connectivity = pm.Deterministic('connectivity',tt.switch(tt.lt(connectivity_,Df.shape[0]),\n",
    "                                                                 connectivity_,\n",
    "                                                                 -1))\n",
    "        trace = pm.sample_prior_predictive(samples=nsamples_) \n",
    "\n",
    "    def calc(idx):\n",
    "        res_ = trace['connectivity'][idx]\n",
    "        connections = [(x,y) for x,y in enumerate(res_) if y>=0]\n",
    "        G = nx.Graph()\n",
    "        G.add_edges_from(connections)\n",
    "        X = []\n",
    "        for xx in range(Df.shape[0]):\n",
    "            for yy in range(xx):\n",
    "                try:\n",
    "                    connections = list(nx.all_simple_paths(G, source=yy, target=xx))\n",
    "                    if len(connections)>0:\n",
    "                        X.append([yy, xx, len(connections[0])-1])\n",
    "                except:\n",
    "                    pass\n",
    "        G.clear()\n",
    "        return(X)\n",
    "\n",
    "    X = Parallel(n_jobs=num_cores)(delayed(calc)(i) for i in range(nsamples_))\n",
    "    df_connections =  pd.DataFrame(sum(X,[]),columns=['infector','infectee','θ'])\n",
    "                \n",
    "    res_ = []\n",
    "    gdf = df_connections.groupby(['infector','infectee'])\n",
    "    for k, gp in gdf:\n",
    "        gpd = gp['θ'].value_counts()\n",
    "        denominator_eq_8 = sum([np.sqrt(2*np.pi*idx)*gpd[idx]/len(gp) for idx in gpd.index])\n",
    "        numerator_eq_8 = 2*Distance.eval()[k[0],k[1]]\n",
    "        res_ = np.r_[res_,[numerator_eq_8/denominator_eq_8]]\n",
    "\n",
    "    output = [genmean,gensd,np.mean(res_)]\n",
    "    display(output)"
   ]
  },
  {
   "cell_type": "code",
   "execution_count": 57,
   "metadata": {},
   "outputs": [
    {
     "data": {
      "text/plain": [
       "[0, 57.65296272181223]"
      ]
     },
     "execution_count": 57,
     "metadata": {},
     "output_type": "execute_result"
    }
   ],
   "source": [
    "output0 = [0,output[-1]]\n",
    "output0"
   ]
  },
  {
   "cell_type": "code",
   "execution_count": 64,
   "metadata": {},
   "outputs": [],
   "source": [
    "filename = \"SaljeEstimation_ADSM.csv\"\n",
    "File = open(filename, 'w')\n",
    "writer = csv.writer(File,lineterminator='\\n')\n",
    "writer.writerow(output0)\n",
    "File.close()"
   ]
  },
  {
   "cell_type": "code",
   "execution_count": 59,
   "metadata": {},
   "outputs": [],
   "source": [
    "Df0 = Df.copy()"
   ]
  },
  {
   "cell_type": "code",
   "execution_count": 65,
   "metadata": {},
   "outputs": [
    {
     "name": "stdout",
     "output_type": "stream",
     "text": [
      "0.94\n"
     ]
    },
    {
     "data": {
      "text/plain": [
       "[0.94, 102.79013744489836]"
      ]
     },
     "metadata": {},
     "output_type": "display_data"
    },
    {
     "name": "stdout",
     "output_type": "stream",
     "text": [
      "0.92\n"
     ]
    },
    {
     "data": {
      "text/plain": [
       "[0.92, 101.50254281896734]"
      ]
     },
     "metadata": {},
     "output_type": "display_data"
    },
    {
     "name": "stdout",
     "output_type": "stream",
     "text": [
      "0.9\n"
     ]
    },
    {
     "data": {
      "text/plain": [
       "[0.9, 92.41473380000822]"
      ]
     },
     "metadata": {},
     "output_type": "display_data"
    },
    {
     "name": "stdout",
     "output_type": "stream",
     "text": [
      "0.88\n"
     ]
    },
    {
     "data": {
      "text/plain": [
       "[0.88, 94.6891637984791]"
      ]
     },
     "metadata": {},
     "output_type": "display_data"
    },
    {
     "name": "stdout",
     "output_type": "stream",
     "text": [
      "0.86\n"
     ]
    },
    {
     "data": {
      "text/plain": [
       "[0.86, 82.94184427899269]"
      ]
     },
     "metadata": {},
     "output_type": "display_data"
    },
    {
     "name": "stdout",
     "output_type": "stream",
     "text": [
      "0.84\n"
     ]
    },
    {
     "data": {
      "text/plain": [
       "[0.84, 82.94655338592497]"
      ]
     },
     "metadata": {},
     "output_type": "display_data"
    },
    {
     "name": "stdout",
     "output_type": "stream",
     "text": [
      "0.82\n"
     ]
    },
    {
     "data": {
      "text/plain": [
       "[0.82, 80.78171667094803]"
      ]
     },
     "metadata": {},
     "output_type": "display_data"
    },
    {
     "name": "stdout",
     "output_type": "stream",
     "text": [
      "0.8\n"
     ]
    },
    {
     "data": {
      "text/plain": [
       "[0.8, 81.94492590239008]"
      ]
     },
     "metadata": {},
     "output_type": "display_data"
    },
    {
     "name": "stdout",
     "output_type": "stream",
     "text": [
      "0.78\n"
     ]
    },
    {
     "data": {
      "text/plain": [
       "[0.78, 78.58534405582803]"
      ]
     },
     "metadata": {},
     "output_type": "display_data"
    },
    {
     "name": "stdout",
     "output_type": "stream",
     "text": [
      "0.76\n"
     ]
    },
    {
     "data": {
      "text/plain": [
       "[0.76, 72.19309973731131]"
      ]
     },
     "metadata": {},
     "output_type": "display_data"
    },
    {
     "name": "stdout",
     "output_type": "stream",
     "text": [
      "0.74\n"
     ]
    },
    {
     "data": {
      "text/plain": [
       "[0.74, 73.72795320714363]"
      ]
     },
     "metadata": {},
     "output_type": "display_data"
    },
    {
     "name": "stdout",
     "output_type": "stream",
     "text": [
      "0.72\n"
     ]
    },
    {
     "data": {
      "text/plain": [
       "[0.72, 71.93589610532753]"
      ]
     },
     "metadata": {},
     "output_type": "display_data"
    },
    {
     "name": "stdout",
     "output_type": "stream",
     "text": [
      "0.7\n"
     ]
    },
    {
     "data": {
      "text/plain": [
       "[0.7, 70.06745993840066]"
      ]
     },
     "metadata": {},
     "output_type": "display_data"
    },
    {
     "name": "stdout",
     "output_type": "stream",
     "text": [
      "0.6799999999999999\n"
     ]
    },
    {
     "data": {
      "text/plain": [
       "[0.6799999999999999, 71.88249527777157]"
      ]
     },
     "metadata": {},
     "output_type": "display_data"
    },
    {
     "name": "stdout",
     "output_type": "stream",
     "text": [
      "0.6599999999999999\n"
     ]
    },
    {
     "data": {
      "text/plain": [
       "[0.6599999999999999, 74.12938199698458]"
      ]
     },
     "metadata": {},
     "output_type": "display_data"
    },
    {
     "name": "stdout",
     "output_type": "stream",
     "text": [
      "0.6399999999999999\n"
     ]
    },
    {
     "data": {
      "text/plain": [
       "[0.6399999999999999, 70.93933346190303]"
      ]
     },
     "metadata": {},
     "output_type": "display_data"
    },
    {
     "name": "stdout",
     "output_type": "stream",
     "text": [
      "0.6199999999999999\n"
     ]
    },
    {
     "data": {
      "text/plain": [
       "[0.6199999999999999, 68.79275902853033]"
      ]
     },
     "metadata": {},
     "output_type": "display_data"
    },
    {
     "name": "stdout",
     "output_type": "stream",
     "text": [
      "0.5999999999999999\n"
     ]
    },
    {
     "data": {
      "text/plain": [
       "[0.5999999999999999, 66.89648913441415]"
      ]
     },
     "metadata": {},
     "output_type": "display_data"
    },
    {
     "name": "stdout",
     "output_type": "stream",
     "text": [
      "0.5799999999999998\n"
     ]
    },
    {
     "data": {
      "text/plain": [
       "[0.5799999999999998, 66.53528424758163]"
      ]
     },
     "metadata": {},
     "output_type": "display_data"
    },
    {
     "name": "stdout",
     "output_type": "stream",
     "text": [
      "0.5599999999999999\n"
     ]
    },
    {
     "data": {
      "text/plain": [
       "[0.5599999999999999, 63.18192570508502]"
      ]
     },
     "metadata": {},
     "output_type": "display_data"
    },
    {
     "name": "stdout",
     "output_type": "stream",
     "text": [
      "0.5399999999999999\n"
     ]
    },
    {
     "data": {
      "text/plain": [
       "[0.5399999999999999, 64.5039349244738]"
      ]
     },
     "metadata": {},
     "output_type": "display_data"
    },
    {
     "name": "stdout",
     "output_type": "stream",
     "text": [
      "0.5199999999999999\n"
     ]
    },
    {
     "data": {
      "text/plain": [
       "[0.5199999999999999, 66.85749784651497]"
      ]
     },
     "metadata": {},
     "output_type": "display_data"
    },
    {
     "name": "stdout",
     "output_type": "stream",
     "text": [
      "0.5\n"
     ]
    },
    {
     "data": {
      "text/plain": [
       "[0.5, 66.6507335349805]"
      ]
     },
     "metadata": {},
     "output_type": "display_data"
    },
    {
     "name": "stdout",
     "output_type": "stream",
     "text": [
      "0.48\n"
     ]
    },
    {
     "data": {
      "text/plain": [
       "[0.48, 67.05088084619797]"
      ]
     },
     "metadata": {},
     "output_type": "display_data"
    },
    {
     "name": "stdout",
     "output_type": "stream",
     "text": [
      "0.45999999999999996\n"
     ]
    },
    {
     "data": {
      "text/plain": [
       "[0.45999999999999996, 64.55717898834001]"
      ]
     },
     "metadata": {},
     "output_type": "display_data"
    },
    {
     "name": "stdout",
     "output_type": "stream",
     "text": [
      "0.43999999999999995\n"
     ]
    },
    {
     "data": {
      "text/plain": [
       "[0.43999999999999995, 63.159609074426236]"
      ]
     },
     "metadata": {},
     "output_type": "display_data"
    },
    {
     "name": "stdout",
     "output_type": "stream",
     "text": [
      "0.41999999999999993\n"
     ]
    },
    {
     "data": {
      "text/plain": [
       "[0.41999999999999993, 63.1216172944876]"
      ]
     },
     "metadata": {},
     "output_type": "display_data"
    },
    {
     "name": "stdout",
     "output_type": "stream",
     "text": [
      "0.3999999999999999\n"
     ]
    },
    {
     "data": {
      "text/plain": [
       "[0.3999999999999999, 62.52557957327932]"
      ]
     },
     "metadata": {},
     "output_type": "display_data"
    },
    {
     "name": "stdout",
     "output_type": "stream",
     "text": [
      "0.3799999999999999\n"
     ]
    },
    {
     "data": {
      "text/plain": [
       "[0.3799999999999999, 61.18480270705345]"
      ]
     },
     "metadata": {},
     "output_type": "display_data"
    },
    {
     "name": "stdout",
     "output_type": "stream",
     "text": [
      "0.3599999999999999\n"
     ]
    },
    {
     "data": {
      "text/plain": [
       "[0.3599999999999999, 60.73228348831462]"
      ]
     },
     "metadata": {},
     "output_type": "display_data"
    },
    {
     "name": "stdout",
     "output_type": "stream",
     "text": [
      "0.33999999999999986\n"
     ]
    },
    {
     "data": {
      "text/plain": [
       "[0.33999999999999986, 60.71347265580041]"
      ]
     },
     "metadata": {},
     "output_type": "display_data"
    },
    {
     "name": "stdout",
     "output_type": "stream",
     "text": [
      "0.31999999999999984\n"
     ]
    },
    {
     "data": {
      "text/plain": [
       "[0.31999999999999984, 59.678564914833984]"
      ]
     },
     "metadata": {},
     "output_type": "display_data"
    },
    {
     "name": "stdout",
     "output_type": "stream",
     "text": [
      "0.2999999999999998\n"
     ]
    },
    {
     "data": {
      "text/plain": [
       "[0.2999999999999998, 60.5985631397089]"
      ]
     },
     "metadata": {},
     "output_type": "display_data"
    },
    {
     "name": "stdout",
     "output_type": "stream",
     "text": [
      "0.2799999999999998\n"
     ]
    },
    {
     "data": {
      "text/plain": [
       "[0.2799999999999998, 60.26330404971994]"
      ]
     },
     "metadata": {},
     "output_type": "display_data"
    },
    {
     "name": "stdout",
     "output_type": "stream",
     "text": [
      "0.2599999999999998\n"
     ]
    },
    {
     "data": {
      "text/plain": [
       "[0.2599999999999998, 61.2996056145568]"
      ]
     },
     "metadata": {},
     "output_type": "display_data"
    },
    {
     "name": "stdout",
     "output_type": "stream",
     "text": [
      "0.23999999999999977\n"
     ]
    },
    {
     "data": {
      "text/plain": [
       "[0.23999999999999977, 60.22891556698308]"
      ]
     },
     "metadata": {},
     "output_type": "display_data"
    },
    {
     "name": "stdout",
     "output_type": "stream",
     "text": [
      "0.21999999999999975\n"
     ]
    },
    {
     "data": {
      "text/plain": [
       "[0.21999999999999975, 60.30134599937866]"
      ]
     },
     "metadata": {},
     "output_type": "display_data"
    },
    {
     "name": "stdout",
     "output_type": "stream",
     "text": [
      "0.19999999999999996\n"
     ]
    },
    {
     "name": "stderr",
     "output_type": "stream",
     "text": [
      "/home/aakhmetz/anaconda3/lib/python3.6/site-packages/joblib/externals/loky/process_executor.py:706: UserWarning: A worker stopped while some jobs were given to the executor. This can be caused by a too short worker timeout or by a memory leak.\n",
      "  \"timeout or by a memory leak.\", UserWarning\n"
     ]
    },
    {
     "data": {
      "text/plain": [
       "[0.19999999999999996, 60.281056383201296]"
      ]
     },
     "metadata": {},
     "output_type": "display_data"
    },
    {
     "name": "stdout",
     "output_type": "stream",
     "text": [
      "0.17999999999999994\n"
     ]
    },
    {
     "data": {
      "text/plain": [
       "[0.17999999999999994, 60.72919063300967]"
      ]
     },
     "metadata": {},
     "output_type": "display_data"
    },
    {
     "name": "stdout",
     "output_type": "stream",
     "text": [
      "0.15999999999999992\n"
     ]
    },
    {
     "data": {
      "text/plain": [
       "[0.15999999999999992, 60.1251955369546]"
      ]
     },
     "metadata": {},
     "output_type": "display_data"
    },
    {
     "name": "stdout",
     "output_type": "stream",
     "text": [
      "0.1399999999999999\n"
     ]
    },
    {
     "data": {
      "text/plain": [
       "[0.1399999999999999, 59.58493372647406]"
      ]
     },
     "metadata": {},
     "output_type": "display_data"
    },
    {
     "name": "stdout",
     "output_type": "stream",
     "text": [
      "0.11999999999999988\n"
     ]
    },
    {
     "data": {
      "text/plain": [
       "[0.11999999999999988, 60.072101358364094]"
      ]
     },
     "metadata": {},
     "output_type": "display_data"
    },
    {
     "name": "stdout",
     "output_type": "stream",
     "text": [
      "0.09999999999999987\n"
     ]
    },
    {
     "data": {
      "text/plain": [
       "[0.09999999999999987, 59.441089683092486]"
      ]
     },
     "metadata": {},
     "output_type": "display_data"
    },
    {
     "name": "stdout",
     "output_type": "stream",
     "text": [
      "0.07999999999999985\n"
     ]
    },
    {
     "data": {
      "text/plain": [
       "[0.07999999999999985, 58.58546344724405]"
      ]
     },
     "metadata": {},
     "output_type": "display_data"
    },
    {
     "name": "stdout",
     "output_type": "stream",
     "text": [
      "0.05999999999999983\n"
     ]
    },
    {
     "data": {
      "text/plain": [
       "[0.05999999999999983, 58.72356304041814]"
      ]
     },
     "metadata": {},
     "output_type": "display_data"
    },
    {
     "name": "stdout",
     "output_type": "stream",
     "text": [
      "0.039999999999999813\n"
     ]
    },
    {
     "data": {
      "text/plain": [
       "[0.039999999999999813, 58.10545047472247]"
      ]
     },
     "metadata": {},
     "output_type": "display_data"
    },
    {
     "name": "stdout",
     "output_type": "stream",
     "text": [
      "0.019999999999999796\n"
     ]
    },
    {
     "data": {
      "text/plain": [
       "[0.019999999999999796, 58.45573090457968]"
      ]
     },
     "metadata": {},
     "output_type": "display_data"
    },
    {
     "name": "stdout",
     "output_type": "stream",
     "text": [
      "Haha! Finished\n",
      "CPU times: user 37min 34s, sys: 17.5 s, total: 37min 51s\n",
      "Wall time: 1h 20min 26s\n"
     ]
    }
   ],
   "source": [
    "%%time\n",
    "recalc = True\n",
    "\n",
    "step = 0.02\n",
    "if(recalc):\n",
    "    for fraction_to_be_removed in 1-np.arange(.06,1,step):\n",
    "        print(fraction_to_be_removed)\n",
    "        Df = Df0.iloc[rndm.sample(range(Df0.shape[0]),int(Df0.shape[0]*(1-fraction_to_be_removed)))].reset_index(drop=True).copy()\n",
    "\n",
    "        WallingaMatrix = np.zeros([Df.shape[0]]*2)\n",
    "        for index_infector, index_infectee in itertools.product(np.arange(Df.shape[0]),np.arange(Df.shape[0])):\n",
    "            time_infectee = Df.loc[index_infectee,'day']\n",
    "            time_infector = Df.loc[index_infector,'day']\n",
    "            WallingaMatrix[index_infectee,index_infector] = genProb(time_infectee-time_infector)\n",
    "        WallingaMatrix = shared(WallingaMatrix)\n",
    "\n",
    "        with pm.Model() as model:\n",
    "            failed_to_connect = tt.switch(tt.gt(WallingaMatrix.max(axis=1),0),0,1)\n",
    "            p = pm.Deterministic('p',tt.concatenate([WallingaMatrix,tt.shape_padright(failed_to_connect)],axis=1))\n",
    "            connectivity_ = pm.Categorical('connectivity_',p=p,shape=Df.shape[0])\n",
    "            connectivity = pm.Deterministic('connectivity',tt.switch(tt.lt(connectivity_,Df.shape[0]),\n",
    "                                                                     connectivity_,\n",
    "                                                                     -1))\n",
    "            trace = pm.sample_prior_predictive(samples=nsamples_) \n",
    "\n",
    "        def calc(idx):\n",
    "            res_ = trace['connectivity'][idx]\n",
    "            connections = [(x,y) for x,y in enumerate(res_) if y>=0]\n",
    "            G = nx.Graph()\n",
    "            G.add_edges_from(connections)\n",
    "            X = []\n",
    "            for xx in range(Df.shape[0]):\n",
    "                for yy in range(xx):\n",
    "                    try:\n",
    "                        connections = list(nx.all_simple_paths(G, source=yy, target=xx))\n",
    "                        if len(connections)>0:\n",
    "                            X.append([yy, xx, len(connections[0])-1])\n",
    "                    except:\n",
    "                        pass\n",
    "            G.clear()\n",
    "            return(X)\n",
    "\n",
    "        X = Parallel(n_jobs=num_cores)(delayed(calc)(i) for i in range(nsamples_))\n",
    "        df_connections =  pd.DataFrame(sum(X,[]),columns=['infector','infectee','θ'])\n",
    "\n",
    "        res_ = []\n",
    "        gdf = df_connections.groupby(['infector','infectee'])\n",
    "        for k, gp in gdf:\n",
    "            gpd = gp['θ'].value_counts()\n",
    "            denominator_eq_8 = sum([np.sqrt(2*np.pi*idx)*gpd[idx]/len(gp) for idx in gpd.index])\n",
    "            numerator_eq_8 = 2*Distance.eval()[k[0],k[1]]\n",
    "            res_ = np.r_[res_,[numerator_eq_8/denominator_eq_8]]\n",
    "\n",
    "        File = open(filename, 'a')\n",
    "        writer = csv.writer(File,lineterminator='\\n')\n",
    "        output = [fraction_to_be_removed,np.mean(res_)]\n",
    "        writer.writerow(output)\n",
    "        File.close()\n",
    "\n",
    "        display(output)\n",
    "        \n",
    "print(\"Haha! Finished\")"
   ]
  },
  {
   "cell_type": "markdown",
   "metadata": {},
   "source": [
    "## removing *ONLY GEOLOCATIONS* at random"
   ]
  },
  {
   "cell_type": "code",
   "execution_count": 71,
   "metadata": {},
   "outputs": [],
   "source": [
    "filename = \"SaljeEstimation_ADSM_only_geolocations.csv\"\n",
    "File = open(filename, 'w')\n",
    "writer = csv.writer(File,lineterminator='\\n')\n",
    "writer.writerow(output0)\n",
    "File.close()"
   ]
  },
  {
   "cell_type": "code",
   "execution_count": 72,
   "metadata": {},
   "outputs": [
    {
     "name": "stdout",
     "output_type": "stream",
     "text": [
      "0.94\n"
     ]
    },
    {
     "data": {
      "text/plain": [
       "[0.94, 54.43541541511973]"
      ]
     },
     "metadata": {},
     "output_type": "display_data"
    },
    {
     "name": "stdout",
     "output_type": "stream",
     "text": [
      "0.92\n"
     ]
    },
    {
     "data": {
      "text/plain": [
       "[0.92, 54.672275941662186]"
      ]
     },
     "metadata": {},
     "output_type": "display_data"
    },
    {
     "name": "stdout",
     "output_type": "stream",
     "text": [
      "0.9\n"
     ]
    },
    {
     "data": {
      "text/plain": [
       "[0.9, 61.105771167394394]"
      ]
     },
     "metadata": {},
     "output_type": "display_data"
    },
    {
     "name": "stdout",
     "output_type": "stream",
     "text": [
      "0.88\n"
     ]
    },
    {
     "data": {
      "text/plain": [
       "[0.88, 61.60842734681639]"
      ]
     },
     "metadata": {},
     "output_type": "display_data"
    },
    {
     "name": "stdout",
     "output_type": "stream",
     "text": [
      "0.86\n"
     ]
    },
    {
     "data": {
      "text/plain": [
       "[0.86, 60.06364894591414]"
      ]
     },
     "metadata": {},
     "output_type": "display_data"
    },
    {
     "name": "stdout",
     "output_type": "stream",
     "text": [
      "0.84\n"
     ]
    },
    {
     "data": {
      "text/plain": [
       "[0.84, 61.18953700682879]"
      ]
     },
     "metadata": {},
     "output_type": "display_data"
    },
    {
     "name": "stdout",
     "output_type": "stream",
     "text": [
      "0.82\n"
     ]
    },
    {
     "data": {
      "text/plain": [
       "[0.82, 57.52895084285842]"
      ]
     },
     "metadata": {},
     "output_type": "display_data"
    },
    {
     "name": "stdout",
     "output_type": "stream",
     "text": [
      "0.8\n"
     ]
    },
    {
     "data": {
      "text/plain": [
       "[0.8, 54.582324266909104]"
      ]
     },
     "metadata": {},
     "output_type": "display_data"
    },
    {
     "name": "stdout",
     "output_type": "stream",
     "text": [
      "0.78\n"
     ]
    },
    {
     "data": {
      "text/plain": [
       "[0.78, 58.496868723187774]"
      ]
     },
     "metadata": {},
     "output_type": "display_data"
    },
    {
     "name": "stdout",
     "output_type": "stream",
     "text": [
      "0.76\n"
     ]
    },
    {
     "data": {
      "text/plain": [
       "[0.76, 56.733114391597155]"
      ]
     },
     "metadata": {},
     "output_type": "display_data"
    },
    {
     "name": "stdout",
     "output_type": "stream",
     "text": [
      "0.74\n"
     ]
    },
    {
     "data": {
      "text/plain": [
       "[0.74, 56.800672879176055]"
      ]
     },
     "metadata": {},
     "output_type": "display_data"
    },
    {
     "name": "stdout",
     "output_type": "stream",
     "text": [
      "0.72\n"
     ]
    },
    {
     "data": {
      "text/plain": [
       "[0.72, 56.528168727382266]"
      ]
     },
     "metadata": {},
     "output_type": "display_data"
    },
    {
     "name": "stdout",
     "output_type": "stream",
     "text": [
      "0.7\n"
     ]
    },
    {
     "data": {
      "text/plain": [
       "[0.7, 56.830136458741144]"
      ]
     },
     "metadata": {},
     "output_type": "display_data"
    },
    {
     "name": "stdout",
     "output_type": "stream",
     "text": [
      "0.6799999999999999\n"
     ]
    },
    {
     "data": {
      "text/plain": [
       "[0.6799999999999999, 58.55868111900115]"
      ]
     },
     "metadata": {},
     "output_type": "display_data"
    },
    {
     "name": "stdout",
     "output_type": "stream",
     "text": [
      "0.6599999999999999\n"
     ]
    },
    {
     "data": {
      "text/plain": [
       "[0.6599999999999999, 55.89307750988009]"
      ]
     },
     "metadata": {},
     "output_type": "display_data"
    },
    {
     "name": "stdout",
     "output_type": "stream",
     "text": [
      "0.6399999999999999\n"
     ]
    },
    {
     "data": {
      "text/plain": [
       "[0.6399999999999999, 58.88609270130776]"
      ]
     },
     "metadata": {},
     "output_type": "display_data"
    },
    {
     "name": "stdout",
     "output_type": "stream",
     "text": [
      "0.6199999999999999\n"
     ]
    },
    {
     "data": {
      "text/plain": [
       "[0.6199999999999999, 55.15188803409552]"
      ]
     },
     "metadata": {},
     "output_type": "display_data"
    },
    {
     "name": "stdout",
     "output_type": "stream",
     "text": [
      "0.5999999999999999\n"
     ]
    },
    {
     "data": {
      "text/plain": [
       "[0.5999999999999999, 57.572984404295354]"
      ]
     },
     "metadata": {},
     "output_type": "display_data"
    },
    {
     "name": "stdout",
     "output_type": "stream",
     "text": [
      "0.5799999999999998\n"
     ]
    },
    {
     "data": {
      "text/plain": [
       "[0.5799999999999998, 58.198479556995096]"
      ]
     },
     "metadata": {},
     "output_type": "display_data"
    },
    {
     "name": "stdout",
     "output_type": "stream",
     "text": [
      "0.5599999999999999\n"
     ]
    },
    {
     "data": {
      "text/plain": [
       "[0.5599999999999999, 57.311367603822355]"
      ]
     },
     "metadata": {},
     "output_type": "display_data"
    },
    {
     "name": "stdout",
     "output_type": "stream",
     "text": [
      "0.5399999999999999\n"
     ]
    },
    {
     "data": {
      "text/plain": [
       "[0.5399999999999999, 57.41508270605598]"
      ]
     },
     "metadata": {},
     "output_type": "display_data"
    },
    {
     "name": "stdout",
     "output_type": "stream",
     "text": [
      "0.5199999999999999\n"
     ]
    },
    {
     "data": {
      "text/plain": [
       "[0.5199999999999999, 60.37606074504331]"
      ]
     },
     "metadata": {},
     "output_type": "display_data"
    },
    {
     "name": "stdout",
     "output_type": "stream",
     "text": [
      "0.5\n"
     ]
    },
    {
     "data": {
      "text/plain": [
       "[0.5, 57.827528657085224]"
      ]
     },
     "metadata": {},
     "output_type": "display_data"
    },
    {
     "name": "stdout",
     "output_type": "stream",
     "text": [
      "0.48\n"
     ]
    },
    {
     "data": {
      "text/plain": [
       "[0.48, 57.60244166438654]"
      ]
     },
     "metadata": {},
     "output_type": "display_data"
    },
    {
     "name": "stdout",
     "output_type": "stream",
     "text": [
      "0.45999999999999996\n"
     ]
    },
    {
     "data": {
      "text/plain": [
       "[0.45999999999999996, 58.03855413751023]"
      ]
     },
     "metadata": {},
     "output_type": "display_data"
    },
    {
     "name": "stdout",
     "output_type": "stream",
     "text": [
      "0.43999999999999995\n"
     ]
    },
    {
     "data": {
      "text/plain": [
       "[0.43999999999999995, 58.123644208631084]"
      ]
     },
     "metadata": {},
     "output_type": "display_data"
    },
    {
     "name": "stdout",
     "output_type": "stream",
     "text": [
      "0.41999999999999993\n"
     ]
    },
    {
     "data": {
      "text/plain": [
       "[0.41999999999999993, 59.42370177840809]"
      ]
     },
     "metadata": {},
     "output_type": "display_data"
    },
    {
     "name": "stdout",
     "output_type": "stream",
     "text": [
      "0.3999999999999999\n"
     ]
    },
    {
     "data": {
      "text/plain": [
       "[0.3999999999999999, 58.56182766796723]"
      ]
     },
     "metadata": {},
     "output_type": "display_data"
    },
    {
     "name": "stdout",
     "output_type": "stream",
     "text": [
      "0.3799999999999999\n"
     ]
    },
    {
     "data": {
      "text/plain": [
       "[0.3799999999999999, 58.7560902508324]"
      ]
     },
     "metadata": {},
     "output_type": "display_data"
    },
    {
     "name": "stdout",
     "output_type": "stream",
     "text": [
      "0.3599999999999999\n"
     ]
    },
    {
     "data": {
      "text/plain": [
       "[0.3599999999999999, 57.404634835403606]"
      ]
     },
     "metadata": {},
     "output_type": "display_data"
    },
    {
     "name": "stdout",
     "output_type": "stream",
     "text": [
      "0.33999999999999986\n"
     ]
    },
    {
     "data": {
      "text/plain": [
       "[0.33999999999999986, 58.84717460248958]"
      ]
     },
     "metadata": {},
     "output_type": "display_data"
    },
    {
     "name": "stdout",
     "output_type": "stream",
     "text": [
      "0.31999999999999984\n"
     ]
    },
    {
     "data": {
      "text/plain": [
       "[0.31999999999999984, 57.79899932597008]"
      ]
     },
     "metadata": {},
     "output_type": "display_data"
    },
    {
     "name": "stdout",
     "output_type": "stream",
     "text": [
      "0.2999999999999998\n"
     ]
    },
    {
     "data": {
      "text/plain": [
       "[0.2999999999999998, 58.21666004729835]"
      ]
     },
     "metadata": {},
     "output_type": "display_data"
    },
    {
     "name": "stdout",
     "output_type": "stream",
     "text": [
      "0.2799999999999998\n"
     ]
    },
    {
     "data": {
      "text/plain": [
       "[0.2799999999999998, 58.22775530469945]"
      ]
     },
     "metadata": {},
     "output_type": "display_data"
    },
    {
     "name": "stdout",
     "output_type": "stream",
     "text": [
      "0.2599999999999998\n"
     ]
    },
    {
     "data": {
      "text/plain": [
       "[0.2599999999999998, 58.55283346086718]"
      ]
     },
     "metadata": {},
     "output_type": "display_data"
    },
    {
     "name": "stdout",
     "output_type": "stream",
     "text": [
      "0.23999999999999977\n"
     ]
    },
    {
     "data": {
      "text/plain": [
       "[0.23999999999999977, 59.067329086797926]"
      ]
     },
     "metadata": {},
     "output_type": "display_data"
    },
    {
     "name": "stdout",
     "output_type": "stream",
     "text": [
      "0.21999999999999975\n"
     ]
    },
    {
     "data": {
      "text/plain": [
       "[0.21999999999999975, 57.76320563145337]"
      ]
     },
     "metadata": {},
     "output_type": "display_data"
    },
    {
     "name": "stdout",
     "output_type": "stream",
     "text": [
      "0.19999999999999996\n"
     ]
    },
    {
     "data": {
      "text/plain": [
       "[0.19999999999999996, 57.89040072911433]"
      ]
     },
     "metadata": {},
     "output_type": "display_data"
    },
    {
     "name": "stdout",
     "output_type": "stream",
     "text": [
      "0.17999999999999994\n"
     ]
    },
    {
     "data": {
      "text/plain": [
       "[0.17999999999999994, 58.305948462555364]"
      ]
     },
     "metadata": {},
     "output_type": "display_data"
    },
    {
     "name": "stdout",
     "output_type": "stream",
     "text": [
      "0.15999999999999992\n"
     ]
    },
    {
     "data": {
      "text/plain": [
       "[0.15999999999999992, 57.826594227540134]"
      ]
     },
     "metadata": {},
     "output_type": "display_data"
    },
    {
     "name": "stdout",
     "output_type": "stream",
     "text": [
      "0.1399999999999999\n"
     ]
    },
    {
     "data": {
      "text/plain": [
       "[0.1399999999999999, 58.71901936617389]"
      ]
     },
     "metadata": {},
     "output_type": "display_data"
    },
    {
     "name": "stdout",
     "output_type": "stream",
     "text": [
      "0.11999999999999988\n"
     ]
    },
    {
     "data": {
      "text/plain": [
       "[0.11999999999999988, 58.29961465627597]"
      ]
     },
     "metadata": {},
     "output_type": "display_data"
    },
    {
     "name": "stdout",
     "output_type": "stream",
     "text": [
      "0.09999999999999987\n"
     ]
    },
    {
     "data": {
      "text/plain": [
       "[0.09999999999999987, 59.17715522996332]"
      ]
     },
     "metadata": {},
     "output_type": "display_data"
    },
    {
     "name": "stdout",
     "output_type": "stream",
     "text": [
      "0.07999999999999985\n"
     ]
    },
    {
     "data": {
      "text/plain": [
       "[0.07999999999999985, 58.345665426719684]"
      ]
     },
     "metadata": {},
     "output_type": "display_data"
    },
    {
     "name": "stdout",
     "output_type": "stream",
     "text": [
      "0.05999999999999983\n"
     ]
    },
    {
     "data": {
      "text/plain": [
       "[0.05999999999999983, 58.26186185950772]"
      ]
     },
     "metadata": {},
     "output_type": "display_data"
    },
    {
     "name": "stdout",
     "output_type": "stream",
     "text": [
      "0.039999999999999813\n"
     ]
    },
    {
     "data": {
      "text/plain": [
       "[0.039999999999999813, 58.49744580400566]"
      ]
     },
     "metadata": {},
     "output_type": "display_data"
    },
    {
     "name": "stdout",
     "output_type": "stream",
     "text": [
      "0.019999999999999796\n"
     ]
    },
    {
     "data": {
      "text/plain": [
       "[0.019999999999999796, 58.57679188913191]"
      ]
     },
     "metadata": {},
     "output_type": "display_data"
    },
    {
     "name": "stdout",
     "output_type": "stream",
     "text": [
      "Haha! Finished\n",
      "CPU times: user 40min 4s, sys: 30.5 s, total: 40min 35s\n",
      "Wall time: 1h 37min 19s\n"
     ]
    }
   ],
   "source": [
    "%%time\n",
    "recalc = True\n",
    "\n",
    "step = 0.02\n",
    "if(recalc):\n",
    "    for fraction_to_be_removed in 1-np.arange(0.06,1,step):\n",
    "        print(fraction_to_be_removed)\n",
    "        nodes_to_keep = rndm.sample(range(Df.shape[0]),int(Df.shape[0]*(1-fraction_to_be_removed)))\n",
    "        Df = Df0.reset_index(drop=True).copy()\n",
    "\n",
    "        WallingaMatrix = np.zeros([Df.shape[0]]*2)\n",
    "        for index_infector, index_infectee in itertools.product(np.arange(Df.shape[0]),np.arange(Df.shape[0])):\n",
    "            time_infectee = Df.loc[index_infectee,'day']\n",
    "            time_infector = Df.loc[index_infector,'day']\n",
    "            WallingaMatrix[index_infectee,index_infector] = genProb(time_infectee-time_infector)\n",
    "        WallingaMatrix = shared(WallingaMatrix)\n",
    "\n",
    "        with pm.Model() as model:\n",
    "            failed_to_connect = tt.switch(tt.gt(WallingaMatrix.max(axis=1),0),0,1)\n",
    "            p = pm.Deterministic('p',tt.concatenate([WallingaMatrix,tt.shape_padright(failed_to_connect)],axis=1))\n",
    "            connectivity_ = pm.Categorical('connectivity_',p=p,shape=Df.shape[0])\n",
    "            connectivity = pm.Deterministic('connectivity',tt.switch(tt.lt(connectivity_,Df.shape[0]),\n",
    "                                                                     connectivity_,\n",
    "                                                                     -1))\n",
    "            trace = pm.sample_prior_predictive(samples=nsamples_) \n",
    "\n",
    "        def calc(idx):\n",
    "            res_ = trace['connectivity'][idx]\n",
    "            connections = [(x,y) for x,y in enumerate(res_) if y>=0]\n",
    "            G = nx.Graph()\n",
    "            G.add_edges_from(connections)\n",
    "            X = []\n",
    "            for xx in range(len(nodes_to_keep)):\n",
    "                for yy in range(xx):\n",
    "                    try:\n",
    "                        src_ = nodes_to_keep[yy]\n",
    "                        trg_ = nodes_to_keep[xx]\n",
    "                        connections = list(nx.all_simple_paths(G, source=src_, target=trg_))\n",
    "                        if len(connections)>0:\n",
    "                            X.append([src_, trg_, len(connections[0])-1])\n",
    "                    except:\n",
    "                        pass\n",
    "            G.clear()\n",
    "            return(X)\n",
    "\n",
    "        X = Parallel(n_jobs=num_cores)(delayed(calc)(i) for i in range(nsamples_))\n",
    "        df_connections =  pd.DataFrame(sum(X,[]),columns=['infector','infectee','θ'])\n",
    "\n",
    "        res_ = []\n",
    "        gdf = df_connections.groupby(['infector','infectee'])\n",
    "        for k, gp in gdf:\n",
    "            gpd = gp['θ'].value_counts()\n",
    "            denominator_eq_8 = sum([np.sqrt(2*np.pi*idx)*gpd[idx]/len(gp) for idx in gpd.index])\n",
    "            numerator_eq_8 = 2*Distance.eval()[k[0],k[1]]\n",
    "            res_ = np.r_[res_,[numerator_eq_8/denominator_eq_8]]\n",
    "\n",
    "        File = open(filename, 'a')\n",
    "        writer = csv.writer(File,lineterminator='\\n')\n",
    "        output = [fraction_to_be_removed,np.mean(res_)]\n",
    "        writer.writerow(output)\n",
    "        File.close()\n",
    "\n",
    "        display(output)\n",
    "        \n",
    "print(\"Haha! Finished\")"
   ]
  },
  {
   "cell_type": "code",
   "execution_count": null,
   "metadata": {},
   "outputs": [],
   "source": []
  },
  {
   "cell_type": "code",
   "execution_count": 75,
   "metadata": {},
   "outputs": [
    {
     "data": {
      "text/html": [
       "<div>\n",
       "<style scoped>\n",
       "    .dataframe tbody tr th:only-of-type {\n",
       "        vertical-align: middle;\n",
       "    }\n",
       "\n",
       "    .dataframe tbody tr th {\n",
       "        vertical-align: top;\n",
       "    }\n",
       "\n",
       "    .dataframe thead th {\n",
       "        text-align: right;\n",
       "    }\n",
       "</style>\n",
       "<table border=\"1\" class=\"dataframe\">\n",
       "  <thead>\n",
       "    <tr style=\"text-align: right;\">\n",
       "      <th></th>\n",
       "      <th>type</th>\n",
       "      <th>fraction_removed</th>\n",
       "      <th>mu</th>\n",
       "    </tr>\n",
       "  </thead>\n",
       "  <tbody>\n",
       "    <tr>\n",
       "      <td>0</td>\n",
       "      <td>both</td>\n",
       "      <td>0.00</td>\n",
       "      <td>57.652963</td>\n",
       "    </tr>\n",
       "    <tr>\n",
       "      <td>1</td>\n",
       "      <td>both</td>\n",
       "      <td>0.94</td>\n",
       "      <td>102.790137</td>\n",
       "    </tr>\n",
       "    <tr>\n",
       "      <td>2</td>\n",
       "      <td>both</td>\n",
       "      <td>0.92</td>\n",
       "      <td>101.502543</td>\n",
       "    </tr>\n",
       "    <tr>\n",
       "      <td>3</td>\n",
       "      <td>both</td>\n",
       "      <td>0.90</td>\n",
       "      <td>92.414734</td>\n",
       "    </tr>\n",
       "    <tr>\n",
       "      <td>4</td>\n",
       "      <td>both</td>\n",
       "      <td>0.88</td>\n",
       "      <td>94.689164</td>\n",
       "    </tr>\n",
       "  </tbody>\n",
       "</table>\n",
       "</div>"
      ],
      "text/plain": [
       "   type  fraction_removed          mu\n",
       "0  both              0.00   57.652963\n",
       "1  both              0.94  102.790137\n",
       "2  both              0.92  101.502543\n",
       "3  both              0.90   92.414734\n",
       "4  both              0.88   94.689164"
      ]
     },
     "execution_count": 75,
     "metadata": {},
     "output_type": "execute_result"
    }
   ],
   "source": [
    "res = pd.read_csv(\"SaljeEstimation_ADSM-final.csv\",sep=\",\",names=['type','fraction_removed','mu'],skiprows=1)\n",
    "res[:5]"
   ]
  },
  {
   "cell_type": "code",
   "execution_count": 95,
   "metadata": {},
   "outputs": [
    {
     "data": {
      "text/plain": [
       "57.65296272"
      ]
     },
     "execution_count": 95,
     "metadata": {},
     "output_type": "execute_result"
    }
   ],
   "source": [
    "mean_distance_all_data = res.loc[lambda d: d.fraction_removed==0].mu.mean()\n",
    "mean_distance_all_data"
   ]
  },
  {
   "cell_type": "code",
   "execution_count": 225,
   "metadata": {},
   "outputs": [
    {
     "data": {
      "image/png": "[encoded data removed]",
      "text/plain": [
       "<Figure size 432x288 with 1 Axes>"
      ]
     },
     "metadata": {},
     "output_type": "display_data"
    }
   ],
   "source": [
    "fig, ax = plt.subplots(1)\n",
    "fig.set_size_inches(6,4);\n",
    "\n",
    "res = res.sort_values('fraction_removed')\n",
    "\n",
    "lbs = ['fully underascertained',\n",
    "       'partially underascertained']\n",
    "lss = sum([['solid'],['dashed']],[])\n",
    "for idx,tp in enumerate(['both','only_geolocations']):\n",
    "    res_ = res.loc[lambda d: d['type']==tp]\n",
    "    ax.plot(res_.fraction_removed,res_.mu,label=lbs[idx],lw=2,ls=lss[idx],color='C'+str(idx))\n",
    "\n",
    "ax.set_xlim(0,1)\n",
    "step = .2\n",
    "xtks = np.arange(0,1+step,step)\n",
    "ax.set_xticks(xtks)\n",
    "ax.set_xticklabels([int(100*x) for x in xtks])\n",
    "ax.set_xlabel('Removed fraction (%)')\n",
    "ax.set_ylabel('Mean transmission distance (km)')\n",
    "ax.axhline(mean_distance_all_data,c='k',ls='dotted',zorder=-5)\n",
    "ax.set_ylim(50,110)\n",
    "\n",
    "ax.spines['right'].set_visible(False); ax.spines['top'].set_visible(False)\n",
    "ax.legend(frameon=False,title_fontsize=12)\n",
    "plt.savefig(\"../../figures/draft/AppendixFig-ADSM-Salje.pdf\",format='pdf',bbox_inches='tight')"
   ]
  },
  {
   "cell_type": "code",
   "execution_count": 164,
   "metadata": {},
   "outputs": [
    {
     "data": {
      "text/html": [
       "<div>\n",
       "<style scoped>\n",
       "    .dataframe tbody tr th:only-of-type {\n",
       "        vertical-align: middle;\n",
       "    }\n",
       "\n",
       "    .dataframe tbody tr th {\n",
       "        vertical-align: top;\n",
       "    }\n",
       "\n",
       "    .dataframe thead th {\n",
       "        text-align: right;\n",
       "    }\n",
       "</style>\n",
       "<table border=\"1\" class=\"dataframe\">\n",
       "  <thead>\n",
       "    <tr style=\"text-align: right;\">\n",
       "      <th></th>\n",
       "      <th>lat</th>\n",
       "      <th>long</th>\n",
       "    </tr>\n",
       "  </thead>\n",
       "  <tbody>\n",
       "    <tr>\n",
       "      <td>0</td>\n",
       "      <td>35.74069</td>\n",
       "      <td>-33.94548</td>\n",
       "    </tr>\n",
       "    <tr>\n",
       "      <td>1</td>\n",
       "      <td>33.41808</td>\n",
       "      <td>-35.25260</td>\n",
       "    </tr>\n",
       "    <tr>\n",
       "      <td>2</td>\n",
       "      <td>36.08720</td>\n",
       "      <td>-34.33728</td>\n",
       "    </tr>\n",
       "    <tr>\n",
       "      <td>3</td>\n",
       "      <td>34.54750</td>\n",
       "      <td>-35.05291</td>\n",
       "    </tr>\n",
       "    <tr>\n",
       "      <td>4</td>\n",
       "      <td>33.51475</td>\n",
       "      <td>-37.56755</td>\n",
       "    </tr>\n",
       "    <tr>\n",
       "      <td>...</td>\n",
       "      <td>...</td>\n",
       "      <td>...</td>\n",
       "    </tr>\n",
       "    <tr>\n",
       "      <td>456</td>\n",
       "      <td>34.09074</td>\n",
       "      <td>-33.10716</td>\n",
       "    </tr>\n",
       "    <tr>\n",
       "      <td>457</td>\n",
       "      <td>33.90047</td>\n",
       "      <td>-33.31553</td>\n",
       "    </tr>\n",
       "    <tr>\n",
       "      <td>458</td>\n",
       "      <td>33.91208</td>\n",
       "      <td>-32.93893</td>\n",
       "    </tr>\n",
       "    <tr>\n",
       "      <td>459</td>\n",
       "      <td>33.81213</td>\n",
       "      <td>-33.29934</td>\n",
       "    </tr>\n",
       "    <tr>\n",
       "      <td>460</td>\n",
       "      <td>33.97775</td>\n",
       "      <td>-33.34908</td>\n",
       "    </tr>\n",
       "  </tbody>\n",
       "</table>\n",
       "<p>461 rows × 2 columns</p>\n",
       "</div>"
      ],
      "text/plain": [
       "          lat      long\n",
       "0    35.74069 -33.94548\n",
       "1    33.41808 -35.25260\n",
       "2    36.08720 -34.33728\n",
       "3    34.54750 -35.05291\n",
       "4    33.51475 -37.56755\n",
       "..        ...       ...\n",
       "456  34.09074 -33.10716\n",
       "457  33.90047 -33.31553\n",
       "458  33.91208 -32.93893\n",
       "459  33.81213 -33.29934\n",
       "460  33.97775 -33.34908\n",
       "\n",
       "[461 rows x 2 columns]"
      ]
     },
     "execution_count": 164,
     "metadata": {},
     "output_type": "execute_result"
    }
   ],
   "source": [
    "from bs4 import BeautifulSoup\n",
    "flnm = 'ADSM-Sample_population.xml'\n",
    "with open(flnm,'rb') as fd:\n",
    "    soup = BeautifulSoup(fd,'xml')\n",
    "cells = soup.find_all()\n",
    "cells = [cell.get_text() for cell in cells]\n",
    "\n",
    "zz = [i for i,cell in enumerate(cells) if (cell=='Swine')]\n",
    "output = None\n",
    "for idx,z in enumerate(zz):\n",
    "    res_ = [float(cells[z+3]),float(cells[z+4])]\n",
    "    output = np.r_[output,[res_]] if idx else [res_]\n",
    "df_smpl = pd.DataFrame(output,columns=['lat','long'])\n",
    "df_smpl"
   ]
  },
  {
   "cell_type": "code",
   "execution_count": 165,
   "metadata": {},
   "outputs": [],
   "source": [
    "df_smpl.to_csv('ADSM-Sample_population.csv')"
   ]
  },
  {
   "cell_type": "code",
   "execution_count": 174,
   "metadata": {},
   "outputs": [
    {
     "data": {
      "text/plain": [
       "lat     32.30871\n",
       "long   -38.24372\n",
       "dtype: float64"
      ]
     },
     "execution_count": 174,
     "metadata": {},
     "output_type": "execute_result"
    }
   ],
   "source": [
    "df_smpl_min = df_smpl.min()\n",
    "df_smpl_min"
   ]
  },
  {
   "cell_type": "code",
   "execution_count": 172,
   "metadata": {},
   "outputs": [
    {
     "data": {
      "text/plain": [
       "lat     37.60544\n",
       "long   -31.78643\n",
       "dtype: float64"
      ]
     },
     "execution_count": 172,
     "metadata": {},
     "output_type": "execute_result"
    }
   ],
   "source": [
    "df_smpl_max = df_smpl.max()\n",
    "df_smpl_max"
   ]
  },
  {
   "cell_type": "code",
   "execution_count": 175,
   "metadata": {},
   "outputs": [
    {
     "data": {
      "text/plain": [
       "5.296730000000004"
      ]
     },
     "execution_count": 175,
     "metadata": {},
     "output_type": "execute_result"
    }
   ],
   "source": [
    "df_smpl_max.lat-df_smpl_min.lat"
   ]
  },
  {
   "cell_type": "code",
   "execution_count": 176,
   "metadata": {},
   "outputs": [
    {
     "data": {
      "text/plain": [
       "6.457290000000004"
      ]
     },
     "execution_count": 176,
     "metadata": {},
     "output_type": "execute_result"
    }
   ],
   "source": [
    "df_smpl_max.long-df_smpl_min.long"
   ]
  },
  {
   "cell_type": "code",
   "execution_count": 184,
   "metadata": {},
   "outputs": [
    {
     "data": {
      "text/plain": [
       "588.390447234561"
      ]
     },
     "execution_count": 184,
     "metadata": {},
     "output_type": "execute_result"
    }
   ],
   "source": [
    "radius = geopy.distance.distance((df_smpl_min.lat,df_smpl_min.long), (df_smpl_max.lat,df_smpl_max.long)).km/np.sqrt(2)\n",
    "radius"
   ]
  },
  {
   "cell_type": "code",
   "execution_count": 201,
   "metadata": {},
   "outputs": [
    {
     "data": {
      "text/plain": [
       "461"
      ]
     },
     "execution_count": 201,
     "metadata": {},
     "output_type": "execute_result"
    }
   ],
   "source": [
    "len(df_smpl)"
   ]
  },
  {
   "cell_type": "code",
   "execution_count": null,
   "metadata": {},
   "outputs": [],
   "source": []
  }
 ],
 "metadata": {
  "kernelspec": {
   "display_name": "Python 3",
   "language": "python",
   "name": "python3"
  },
  "language_info": {
   "codemirror_mode": {
    "name": "ipython",
    "version": 3
   },
   "file_extension": ".py",
   "mimetype": "text/x-python",
   "name": "python",
   "nbconvert_exporter": "python",
   "pygments_lexer": "ipython3",
   "version": "3.7.3"
  }
 },
 "nbformat": 4,
 "nbformat_minor": 4
}
